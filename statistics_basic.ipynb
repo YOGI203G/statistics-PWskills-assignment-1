{
 "cells": [
  {
   "cell_type": "markdown",
   "id": "febf70e9-58c3-42f6-8eae-769399cac87f",
   "metadata": {},
   "source": [
    "Q1. What is Statistics?"
   ]
  },
  {
   "cell_type": "markdown",
   "id": "9c9f96ea-12b4-42d2-beba-7bed405dee86",
   "metadata": {},
   "source": [
    "Statistics is a branch of mathematics that deals with the collection, analysis, interpretation, presentation, and organization of data. It involves the use of quantitative methods to describe, summarize, and draw conclusions from data. Statistics is used in a wide variety of fields, including science, engineering, medicine, business, social sciences, and many others.\n",
    "\n",
    "There are two main branches of statistics: descriptive statistics and inferential statistics. Descriptive statistics involves the use of methods to summarize and describe data, such as measures of central tendency (mean, median, mode), measures of variability (range, variance, standard deviation), and graphical displays (histograms, scatterplots, etc.). Inferential statistics involves the use of methods to make inferences or predictions about a population based on a sample of data. This includes hypothesis testing, estimation, and regression analysis.\n",
    "\n",
    "Statistics plays a vital role in decision-making in many fields, as it allows us to analyze and interpret data to make informed decisions."
   ]
  },
  {
   "cell_type": "markdown",
   "id": "3347fb2c-9450-4bc8-84ff-25db0324e28f",
   "metadata": {},
   "source": [
    "Q2. Define the different types of statistics and give an example of when each type might be used."
   ]
  },
  {
   "cell_type": "markdown",
   "id": "fd521c20-d481-43cc-a6ae-9991d50fb358",
   "metadata": {},
   "source": [
    "There are two main types of statistics: descriptive statistics and inferential statistics."
   ]
  },
  {
   "cell_type": "markdown",
   "id": "1551c4a3-685b-4b91-b284-c7a0c80f775c",
   "metadata": {},
   "source": [
    "1.Descriptive Statistics: Descriptive statistics involves the use of methods to summarize and describe data. Some examples of descriptive statistics include:"
   ]
  },
  {
   "cell_type": "markdown",
   "id": "d04046f8-0246-40f4-b5f3-5017375d97c9",
   "metadata": {},
   "source": [
    ".Measures of central tendency: Mean, median, mode.\n",
    "\n",
    ".Measures of variability: Range, variance, standard deviation.\n",
    "\n",
    ".Graphical displays: Histograms, scatterplots, boxplots."
   ]
  },
  {
   "cell_type": "markdown",
   "id": "537b0f50-6357-487e-9744-b503d3ae2fb0",
   "metadata": {},
   "source": [
    "Descriptive statistics are useful when you want to summarize or describe a set of data. For example, if you want to describe the average income of a group of people, you could use the mean as a measure of central tendency. If you want to describe how spread out the incomes are, you could use the standard deviation as a measure of variability."
   ]
  },
  {
   "cell_type": "markdown",
   "id": "ae5c5d9f-83b9-4eb5-9330-ae1c2aa91841",
   "metadata": {},
   "source": [
    "2.Inferential Statistics: Inferential statistics involves the use of methods to make inferences or predictions about a population based on a sample of data. Some examples of inferential statistics include:"
   ]
  },
  {
   "cell_type": "markdown",
   "id": "a413e776-4dd5-4ad6-be59-e7f086020ebf",
   "metadata": {},
   "source": [
    "Hypothesis testing: Used to determine if there is a significant difference between two groups or if a particular relationship exists between two variables.\n",
    "\n",
    "Estimation: Used to estimate population parameters from sample data.\n",
    "\n",
    "Regression analysis: Used to model the relationship between two or more variables."
   ]
  },
  {
   "cell_type": "markdown",
   "id": "fa16f2b7-87ef-451e-9569-66a8c3f232b3",
   "metadata": {},
   "source": [
    "Inferential statistics are useful when you want to make predictions or inferences about a larger population based on a smaller sample of data. For example, if you want to determine if a new drug is effective, you could use hypothesis testing to compare the outcomes of a treatment group and a control group. If you want to estimate the proportion of a population that supports a particular policy, you could use estimation based on a sample of survey data."
   ]
  },
  {
   "cell_type": "markdown",
   "id": "556090e0-bed5-408f-84a6-2f3b5c6d789a",
   "metadata": {},
   "source": [
    "Q3.  What are the different types of data and how do they differ from each other? Provide an example of\n",
    "each type of data."
   ]
  },
  {
   "cell_type": "markdown",
   "id": "431496be-8653-4de1-8a3a-2a78679ff7f9",
   "metadata": {},
   "source": [
    "In statistics, there are four main types of data: nominal, ordinal, interval, and ratio. These types of data are used to describe the nature of the data being collected or analyzed, and they help determine the appropriate statistical tests to use. In this essay, we will explore each type of data in detail, providing examples along the way."
   ]
  },
  {
   "cell_type": "markdown",
   "id": "22ef6c6d-1892-48b3-97ca-6e1443e2830f",
   "metadata": {},
   "source": [
    "Nominal Data:"
   ]
  },
  {
   "cell_type": "markdown",
   "id": "7a3e1d64-0b13-4804-990d-da10327e97f1",
   "metadata": {},
   "source": [
    "Nominal data is a type of data that consists of categories or names that cannot be ordered or ranked. Nominal data is often used to categorize observations into groups, and the groups are not comparable. In other words, nominal data has no inherent order or ranking. Examples of nominal data include gender (male/female), race (White/Black/Asian), religion (Christianity/Islam/Judaism), and blood type (A/B/AB/O)."
   ]
  },
  {
   "cell_type": "markdown",
   "id": "0a583c3a-4629-4068-8a7c-1aaaa3618215",
   "metadata": {},
   "source": [
    "Ordinal Data:"
   ]
  },
  {
   "cell_type": "markdown",
   "id": "300e2cd3-fc38-400e-96c8-3b2a7a63ca68",
   "metadata": {},
   "source": [
    "Ordinal data is a type of data that consists of categories that can be ordered or ranked. However, the distance between categories is not necessarily equal. Ordinal data is often used to measure subjective attributes or opinions, where there is a natural order to the responses. Examples of ordinal data include education level (elementary/middle/high school/college), job position (manager/supervisor/employee), and Likert scales (strongly agree/agree/disagree/strongly disagree)."
   ]
  },
  {
   "cell_type": "markdown",
   "id": "8979552d-7c61-4977-98b7-0b617d602e3a",
   "metadata": {},
   "source": [
    "Interval Data:"
   ]
  },
  {
   "cell_type": "markdown",
   "id": "692b83a2-c1e3-45b7-a95d-97c5165c7862",
   "metadata": {},
   "source": [
    "Interval data is a type of data that consists of numerical values where the distance between each value is equal. However, there is no true zero point. Interval data is often used to measure attributes such as temperature, dates, and time. Examples of interval data include temperature (Celsius/Fahrenheit), dates (days/months/years), and time (hours/minutes/seconds)."
   ]
  },
  {
   "cell_type": "markdown",
   "id": "c3781ca6-1ae5-4ed8-9e49-c88520825e4f",
   "metadata": {},
   "source": [
    "Ratio Data:"
   ]
  },
  {
   "cell_type": "markdown",
   "id": "947df775-d634-48dc-b938-4b39418f7174",
   "metadata": {},
   "source": [
    "Ratio data is a type of data that has a true zero point and an equal distance between each value. Ratio data is considered the most informative type of data because it can be used to make meaningful comparisons and calculations. In addition, ratio data can be used to perform all types of statistical analyses.\n",
    "\n",
    "Examples of ratio data include height (inches/centimeters), weight (pounds/kilograms), income (dollars), and distance (miles/kilometers). For instance, if someone’s height is 60 inches, it means that they are 5 feet tall, and if their height is 72 inches, it means that they are 6 feet tall. Moreover, if someone’s weight is 150 pounds, it means that they weigh 68 kilograms."
   ]
  },
  {
   "cell_type": "markdown",
   "id": "3c03fbde-3a22-459a-8bfe-b2c5795cc17b",
   "metadata": {},
   "source": [
    "Q4. Categorise the following datasets with respect to quantitative and qualitative data types:\n",
    "\n",
    "(i)\tGrading in exam: A+, A, B+, B, C+, C, D, E\n",
    "\n",
    "(ii)\tColour of mangoes: yellow, green, orange, red\n",
    "\n",
    "(iii)\tHeight data of a class: [178.9, 179, 179.5, 176, 177.2, 178.3, 175.8,...]\n",
    "\n",
    "(iv)\tNumber of mangoes exported by a farm: [500, 600, 478, 672, …]"
   ]
  },
  {
   "cell_type": "markdown",
   "id": "49de1c39-45f9-40b6-8818-5f7a642b0591",
   "metadata": {},
   "source": [
    "(i) Grading in exam: A+, A, B+, B, C+, C, D, E - Qualitative data\n",
    "\n",
    "(ii) Colour of mangoes: yellow, green, orange, red - Qualitative data\n",
    "\n",
    "(iii) Height data of a class: [178.9, 179, 179.5, 176, 177.2, 178.3, 175.8,...] - Quantitative data\n",
    "\n",
    "(iv) Number of mangoes exported by a farm: [500, 600, 478, 672, ...] - Quantitative data"
   ]
  },
  {
   "cell_type": "markdown",
   "id": "9060a1c7-9e2d-4abc-953b-4757704a37b8",
   "metadata": {},
   "source": [
    "Q5. Explain the concept of levels of measurement and give an example of a variable for each level."
   ]
  },
  {
   "cell_type": "markdown",
   "id": "e11a3dcc-140e-495b-bd54-950e5fd51e61",
   "metadata": {},
   "source": [
    "Levels of measurement, also known as scales of measurement, refer to the ways in which variables can be classified based on the nature of the data they represent. There are four commonly recognized levels of measurement: nominal, ordinal, interval, and ratio.\n",
    "\n",
    "1.Nominal level of measurement: This level of measurement is used to classify data into categories that do not have any order or rank. The categories are simply used to label or identify items. Examples of variables at the nominal level of measurement include gender (male, female), eye color (brown, blue, green), and race (Caucasian, African American, Asian).\n",
    "\n",
    "2.Ordinal level of measurement: This level of measurement allows variables to be ranked or ordered based on some criterion or characteristic. However, the differences between the categories are not necessarily equal or measurable. Examples of variables at the ordinal level of measurement include education level (high school diploma, bachelor's degree, master's degree), socioeconomic status (low, middle, high), and grade in a course (A, B, C, D, F).\n",
    "\n",
    "3.Interval level of measurement: This level of measurement is similar to the ordinal level, but the differences between the categories are equal and measurable. There is no true zero point in interval data. Examples of variables at the interval level of measurement include temperature (Fahrenheit or Celsius), IQ scores, and dates (measured in years or days from a certain point).\n",
    "\n",
    "4.Ratio level of measurement: This level of measurement is the most precise and has a true zero point. Ratio variables can be ordered, and the differences between categories are both equal and meaningful. Examples of variables at the ratio level of measurement include height, weight, time, and income.\n",
    "\n",
    "Overall, understanding the level of measurement of a variable is important because it affects the type of statistical analysis that can be performed on the data. For instance, nominal and ordinal data may only be analyzed using non-parametric statistical tests, while interval and ratio data can be analyzed using both non-parametric and parametric statistical tests."
   ]
  },
  {
   "cell_type": "markdown",
   "id": "b6fd01ae-2afa-48c5-9131-3127c1127f38",
   "metadata": {},
   "source": [
    "Q6. Why is it important to understand the level of measurement when analyzing data? Provide an\n",
    "example to illustrate your answer."
   ]
  },
  {
   "cell_type": "markdown",
   "id": "e1108e8e-1b61-49c9-8476-4cfec8c9bbaf",
   "metadata": {},
   "source": [
    "Understanding the level of measurement is essential when analyzing data because it determines the type of statistical analysis that can be performed and the appropriate measures of central tendency and dispersion that can be used. Different levels of measurement have different properties, which affect the way data can be analyzed and interpreted.\n",
    "\n",
    "For example, if we have data on the favorite color of a group of people, we need to know the level of measurement of the variable to perform appropriate analysis. If the variable is measured on a nominal scale, we can only count the number of people who choose each color and calculate the percentage of people for each color. We cannot compute a mean or variance because nominal data have no natural ordering or hierarchy. On the other hand, if the variable is measured on an ordinal scale, we can rank the colors from most to least popular and compute the median or mode. However, we cannot assume that the intervals between ranks are equal, and we cannot compute a meaningful mean or variance.\n",
    "\n",
    "In contrast, if the variable is measured on an interval or ratio scale, we can assume equal intervals between values and compute a meaningful mean and variance. For example, if we have data on the age of a group of people, we can calculate the mean, median, and standard deviation, which provide more detailed information about the distribution of the data.\n",
    "\n",
    "In summary, understanding the level of measurement is crucial because it determines the appropriate statistical analysis and measures of central tendency and dispersion that can be used. It helps researchers avoid making incorrect assumptions about the properties of the data and make more accurate conclusions based on the analysis."
   ]
  },
  {
   "cell_type": "markdown",
   "id": "3ce1c29d-36af-485a-8b2f-6a25e1d47122",
   "metadata": {},
   "source": [
    "Q7. How nominal data type is different from ordinal data type."
   ]
  },
  {
   "cell_type": "markdown",
   "id": "4e88d2b6-c759-4012-86ab-4e210b1bb3e9",
   "metadata": {},
   "source": [
    "Nominal and ordinal are two of the four levels of measurement in statistics.\n",
    "\n",
    "Nominal data is a type of categorical data in which data values represent categories that do not have any inherent order or ranking. For example, gender (male, female) or color (red, green, blue) are nominal variables. Nominal data can only be classified and counted.\n",
    "\n",
    "Ordinal data, on the other hand, represents categories that can be ranked in order or have a natural order. However, the distance between categories is not equal. For example, the ranking of the finishing positions in a race (1st, 2nd, 3rd) is an ordinal variable. Other examples of ordinal variables include education level (high school, college, graduate degree) or ratings (poor, fair, good, excellent).\n",
    "\n",
    "The key difference between nominal and ordinal data is that nominal data does not have any inherent order or ranking, whereas ordinal data has a natural order or ranking but no specific numerical value associated with it."
   ]
  },
  {
   "cell_type": "markdown",
   "id": "9c21c0b6-daa3-4d4e-947b-bde235d857e5",
   "metadata": {},
   "source": [
    "Q8. Which type of plot can be used to display data in terms of range?\n",
    "\n"
   ]
  },
  {
   "cell_type": "markdown",
   "id": "6b436936-0ffa-4784-b125-757c3d600a51",
   "metadata": {},
   "source": [
    "A box plot, also known as a box-and-whisker plot, is commonly used to display data in terms of range. It shows the distribution of the data by displaying the median, quartiles, and outliers of the dataset. The box represents the interquartile range (IQR), which is the range of the middle 50% of the data, while the whiskers extend to the minimum and maximum values within a certain range. Box plots are useful for comparing distributions between different groups or variables."
   ]
  },
  {
   "cell_type": "markdown",
   "id": "9e823fa2-9713-4d92-b9a8-d19b71bb8144",
   "metadata": {},
   "source": [
    "Q9. Describe the difference between descriptive and inferential statistics. Give an example of each\n",
    "type of statistics and explain how they are used."
   ]
  },
  {
   "cell_type": "markdown",
   "id": "a6753226-2505-4feb-b44d-50a80fcc4812",
   "metadata": {},
   "source": [
    "Descriptive statistics and inferential statistics are two broad categories of statistical analysis methods used in data analysis.\n",
    "\n",
    "Descriptive statistics is the branch of statistics that deals with the summary and description of the characteristics of a set of data. It includes measures like mean, median, mode, standard deviation, range, and percentiles, which are used to describe and summarize data in a way that is easily understandable. For example, if we want to understand the average income of a particular community, we can calculate the mean income of that community using descriptive statistics.\n",
    "\n",
    "In contrast, inferential statistics is the branch of statistics that deals with making generalizations and predictions about a population based on a sample. It involves using sample data to make inferences or draw conclusions about a larger population. For example, if we want to know whether the average income of a particular community is significantly different from the average income of the entire population, we can use inferential statistics to conduct hypothesis testing and make conclusions about the population based on the sample data.\n",
    "\n",
    "To illustrate the difference between descriptive and inferential statistics, consider the following example. Suppose we want to study the average height of students in a school. Descriptive statistics can be used to calculate the mean, median, and range of the heights of the students in the school. On the other hand, inferential statistics can be used to make generalizations about the height of all students in the school, based on a sample of students. For instance, we can randomly select a sample of 100 students, calculate their average height, and use inferential statistics to make predictions about the average height of all students in the school."
   ]
  },
  {
   "cell_type": "markdown",
   "id": "091fd3f8-c415-43ca-a955-f12c14e48683",
   "metadata": {},
   "source": [
    "Q10. What are some common measures of central tendency and variability used in statistics? Explain\n",
    "how each measure can be used to describe a dataset."
   ]
  },
  {
   "cell_type": "markdown",
   "id": "dcada677-fb59-4e4c-bd2e-37936a1f7510",
   "metadata": {},
   "source": [
    "Measures of central tendency and variability are commonly used in statistics to describe a dataset.\n",
    "\n",
    "Measures of central tendency:\n",
    "\n",
    "1.Mean: The mean is the sum of all the values in a dataset divided by the number of values in the dataset. It is often used to describe the average value of a dataset. For example, the mean salary of employees in a company can be used to describe the average salary of all employees.\n",
    "\n",
    "2.Median: The median is the middle value of a dataset when it is ordered from smallest to largest. It is often used to describe the central value of a dataset when there are outliers or when the distribution is not symmetrical. For example, the median income of a neighborhood can be used to describe the central income of the residents.\n",
    "\n",
    "3.Mode: The mode is the value that appears most frequently in a dataset. It is often used to describe the most common value of a dataset. For example, the mode of transportation used by commuters in a city can be used to describe the most common method of transportation"
   ]
  },
  {
   "cell_type": "markdown",
   "id": "340b54ea-a1e3-4bf6-b12f-8278f32f1d09",
   "metadata": {},
   "source": [
    "Measures of variability:\n",
    "\n",
    "1.Range: The range is the difference between the largest and smallest values in a dataset. It is often used to describe the spread of the data. For example, the range of ages of students in a classroom can be used to describe how spread out the ages are.\n",
    "\n",
    "2.Variance: The variance is the average of the squared differences from the mean. It is often used to describe how spread out the data is from the mean. For example, the variance of test scores in a class can be used to describe how spread out the scores are from the average score.\n",
    "\n",
    "3.Standard deviation: The standard deviation is the square root of the variance. It is often used to describe how spread out the data is from the mean in the same units as the data. For example, the standard deviation of the heights of students in a class can be used to describe how spread out the heights are from the average height, in units of centimeters.\n",
    "\n",
    "These measures of central tendency and variability can be used together to provide a more complete description of a dataset. For example, the mean and standard deviation can be used to describe the average value and the spread of the data, while the median and range can be used to describe the central value and the range of the data."
   ]
  },
  {
   "cell_type": "code",
   "execution_count": null,
   "id": "b12d14ac-a413-4c72-a41e-27768089a6e3",
   "metadata": {},
   "outputs": [],
   "source": []
  }
 ],
 "metadata": {
  "kernelspec": {
   "display_name": "Python 3 (ipykernel)",
   "language": "python",
   "name": "python3"
  },
  "language_info": {
   "codemirror_mode": {
    "name": "ipython",
    "version": 3
   },
   "file_extension": ".py",
   "mimetype": "text/x-python",
   "name": "python",
   "nbconvert_exporter": "python",
   "pygments_lexer": "ipython3",
   "version": "3.10.8"
  }
 },
 "nbformat": 4,
 "nbformat_minor": 5
}
